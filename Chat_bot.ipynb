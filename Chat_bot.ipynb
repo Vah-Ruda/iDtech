{
 "cells": [
  {
   "cell_type": "code",
   "execution_count": 5,
   "id": "6b3694d2-0921-4952-9e3d-18c0b3ef5143",
   "metadata": {},
   "outputs": [],
   "source": [
    "from openai import OpenAI\n",
    "#adding open AI"
   ]
  },
  {
   "cell_type": "code",
   "execution_count": 6,
   "id": "c990f11f-ee8b-42c1-a28a-db657a15db11",
   "metadata": {},
   "outputs": [],
   "source": [
    "#importing client\n",
    "client = OpenAI(\n",
    "#adding API key\n",
    "    api_key = \"\""
   ]
  },
  {
   "cell_type": "code",
   "execution_count": 7,
   "id": "3927bbf6-393c-4493-8ab5-8032da70fe31",
   "metadata": {},
   "outputs": [],
   "source": [
    "end_program = False"
   ]
  },
  {
   "cell_type": "code",
   "execution_count": null,
   "id": "f932be03-4463-40fb-aef2-c6fe4870d79d",
   "metadata": {},
   "outputs": [],
   "source": [
    "#this tells it that while the program is running it should ask the user for input\n",
    "while not end_program:\n",
    "    get_input = input(\"Enter a prompt: \")\n",
    "    if get_input.lower() == \"goodbye\" or get_input.lower() == \"exit\":\n",
    "        end_program = True\n",
    "        print(\"Have a great day!\")\n",
    "    else:\n",
    "        system_data = [\n",
    "            {\"role\": \"system\", \"content\": \n",
    "             #this creates the AI's personality and tells it what it's purpose is\n",
    "                    \"You are an AI assistant that specializes in cooking. You are very experienced in making food recipes and you own a \"\n",
    "                    \"three Michelin star restaurant named Alberts and are world-famous for your cooking. You cook all types of food and have \"\n",
    "                    \"a menu that is inspired by fusion cooking practices. You are 56 years old, and your name is Albert Jones. You worked at your mom's family-owned \"\n",
    "                    \"restaurant called Jones, cooking and making American diner food. You loved cooking so much that every summer you would work \"\n",
    "                    \"at different restaurants to get experience in cooking different foods. When you were in high school and college, you got a \"\n",
    "                    \"full-time job at a ramen restaurant with five stars that was always crowded. After you graduated college, you opened your \"\n",
    "                    \"restaurant called Alberts that grew into the famous restaurant that you run today. You are very happy when you teach people \"\n",
    "                    \"how to cook and love helping people improve. You hate any word that starts with the letter z because you think that there is \"\n",
    "                    \"no need for z in the alphabet. You have two children, a boy named Joe and a daughter named Sophia. You have a wife named Amy, \"\n",
    "                    \"and you love your family more than anything in the world.\"\n",
    "                },\n",
    "            {\"role\": \"user\", \"content\": get_input}\n",
    "        ]\n",
    "        response = client.chat.completions.create(\n",
    "            model = \"gpt-3.5-turbo\",\n",
    "            messages = system_data\n",
    "        )\n",
    "        #this generates the AI's response to the user\n",
    "        assistant_response = response.choices[0].message.content\n",
    "        system_data.append({\"role\": \"assistant\", \"content\": assistant_response})\n",
    "        print(\"Assistant: \" + assistant_response)"
   ]
  },
  {
   "cell_type": "code",
   "execution_count": null,
   "id": "73e01660-3d7c-4b0a-ab46-74a5787eed0e",
   "metadata": {},
   "outputs": [],
   "source": []
  }
 ],
 "metadata": {
  "kernelspec": {
   "display_name": "Python 3 (ipykernel)",
   "language": "python",
   "name": "python3"
  },
  "language_info": {
   "codemirror_mode": {
    "name": "ipython",
    "version": 3
   },
   "file_extension": ".py",
   "mimetype": "text/x-python",
   "name": "python",
   "nbconvert_exporter": "python",
   "pygments_lexer": "ipython3",
   "version": "3.10.0"
  }
 },
 "nbformat": 4,
 "nbformat_minor": 5
}
